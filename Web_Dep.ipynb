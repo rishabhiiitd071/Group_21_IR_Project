{
  "cells": [
    {
      "cell_type": "code",
      "source": [
        "from google.colab import drive\n",
        "drive.mount('/content/drive')"
      ],
      "metadata": {
        "colab": {
          "base_uri": "https://localhost:8080/"
        },
        "id": "lgzzREYERawE",
        "outputId": "f2877e6e-e4f5-49e5-d27c-b5e8a6ed027f"
      },
      "execution_count": null,
      "outputs": [
        {
          "output_type": "stream",
          "name": "stdout",
          "text": [
            "Mounted at /content/drive\n"
          ]
        }
      ]
    },
    {
      "cell_type": "code",
      "execution_count": null,
      "metadata": {
        "colab": {
          "base_uri": "https://localhost:8080/"
        },
        "id": "RYgGezXhflUX",
        "outputId": "6df97f44-aa75-49bc-92a1-7264967f84af"
      },
      "outputs": [
        {
          "output_type": "stream",
          "name": "stdout",
          "text": [
            "Collecting pyngrok==4.1.1\n",
            "  Downloading pyngrok-4.1.1.tar.gz (18 kB)\n",
            "Requirement already satisfied: future in /usr/local/lib/python3.7/dist-packages (from pyngrok==4.1.1) (0.16.0)\n",
            "Requirement already satisfied: PyYAML in /usr/local/lib/python3.7/dist-packages (from pyngrok==4.1.1) (3.13)\n",
            "Building wheels for collected packages: pyngrok\n",
            "  Building wheel for pyngrok (setup.py) ... \u001b[?25l\u001b[?25hdone\n",
            "  Created wheel for pyngrok: filename=pyngrok-4.1.1-py3-none-any.whl size=15983 sha256=09a3d958ae59a14edabd3dd77569d4a2b19c0346aee9bc95cb77d656595d281d\n",
            "  Stored in directory: /root/.cache/pip/wheels/b1/d9/12/045a042fee3127dc40ba6f5df2798aa2df38c414bf533ca765\n",
            "Successfully built pyngrok\n",
            "Installing collected packages: pyngrok\n",
            "Successfully installed pyngrok-4.1.1\n",
            "Collecting flask_ngrok\n",
            "  Downloading flask_ngrok-0.0.25-py3-none-any.whl (3.1 kB)\n",
            "Requirement already satisfied: requests in /usr/local/lib/python3.7/dist-packages (from flask_ngrok) (2.23.0)\n",
            "Requirement already satisfied: Flask>=0.8 in /usr/local/lib/python3.7/dist-packages (from flask_ngrok) (1.1.4)\n",
            "Requirement already satisfied: Jinja2<3.0,>=2.10.1 in /usr/local/lib/python3.7/dist-packages (from Flask>=0.8->flask_ngrok) (2.11.3)\n",
            "Requirement already satisfied: itsdangerous<2.0,>=0.24 in /usr/local/lib/python3.7/dist-packages (from Flask>=0.8->flask_ngrok) (1.1.0)\n",
            "Requirement already satisfied: click<8.0,>=5.1 in /usr/local/lib/python3.7/dist-packages (from Flask>=0.8->flask_ngrok) (7.1.2)\n",
            "Requirement already satisfied: Werkzeug<2.0,>=0.15 in /usr/local/lib/python3.7/dist-packages (from Flask>=0.8->flask_ngrok) (1.0.1)\n",
            "Requirement already satisfied: MarkupSafe>=0.23 in /usr/local/lib/python3.7/dist-packages (from Jinja2<3.0,>=2.10.1->Flask>=0.8->flask_ngrok) (2.0.1)\n",
            "Requirement already satisfied: idna<3,>=2.5 in /usr/local/lib/python3.7/dist-packages (from requests->flask_ngrok) (2.10)\n",
            "Requirement already satisfied: urllib3!=1.25.0,!=1.25.1,<1.26,>=1.21.1 in /usr/local/lib/python3.7/dist-packages (from requests->flask_ngrok) (1.24.3)\n",
            "Requirement already satisfied: certifi>=2017.4.17 in /usr/local/lib/python3.7/dist-packages (from requests->flask_ngrok) (2021.10.8)\n",
            "Requirement already satisfied: chardet<4,>=3.0.2 in /usr/local/lib/python3.7/dist-packages (from requests->flask_ngrok) (3.0.4)\n",
            "Installing collected packages: flask-ngrok\n",
            "Successfully installed flask-ngrok-0.0.25\n",
            "Authtoken saved to configuration file: /root/.ngrok2/ngrok.yml\n"
          ]
        }
      ],
      "source": [
        "!pip install pyngrok==4.1.1\n",
        "!pip install flask_ngrok\n",
        "!ngrok authtoken 28Efv8uTnWPnkDv0fJbFQQSjNik_7cPQNgkYrCtfPhb4jpNhC"
      ]
    },
    {
      "cell_type": "code",
      "execution_count": null,
      "metadata": {
        "id": "bsnsNtBCgwdQ"
      },
      "outputs": [],
      "source": [
        "import numpy as np\n",
        "from flask import Flask, request, jsonify, render_template\n",
        "import pickle\n",
        "import pandas as pd\n",
        "import random\n",
        "import numpy as np\n",
        "from keras.models import Sequential, load_model\n",
        "from keras.utils.np_utils import to_categorical\n",
        "import matplotlib.pyplot as plt\n",
        "import warnings\n",
        "from PIL import Image\n",
        "import requests\n",
        "from keras.utils import np_utils\n",
        "from cv2 import cv2\n",
        "warnings.filterwarnings('ignore')"
      ]
    },
    {
      "cell_type": "code",
      "source": [
        "from flask import Flask\n",
        "from flask_ngrok import run_with_ngrok\n",
        "from flask import Flask, render_template"
      ],
      "metadata": {
        "id": "ZqRMu2tQK5k7"
      },
      "execution_count": null,
      "outputs": []
    },
    {
      "cell_type": "code",
      "execution_count": null,
      "metadata": {
        "id": "EvZK3SOc9cUm"
      },
      "outputs": [],
      "source": [
        "model = load_model(\"/content/drive/MyDrive/IR Project CODEBASE/weights.h5\")"
      ]
    },
    {
      "cell_type": "markdown",
      "metadata": {
        "id": "C70QAGKSiJzh"
      },
      "source": [
        "# **Music Recommendation**"
      ]
    },
    {
      "cell_type": "code",
      "execution_count": null,
      "metadata": {
        "id": "N3IflY3e91vs"
      },
      "outputs": [],
      "source": [
        "data = pd.read_csv('/content/drive/MyDrive/IR Project CODEBASE/Deployment/playlists/Music Playlist.csv')"
      ]
    },
    {
      "cell_type": "code",
      "execution_count": null,
      "metadata": {
        "colab": {
          "base_uri": "https://localhost:8080/",
          "height": 206
        },
        "id": "bKpT9-xG9bvA",
        "outputId": "7ecbc8d8-aec8-47b2-96b5-0b6cb80ca776"
      },
      "outputs": [
        {
          "output_type": "execute_result",
          "data": {
            "text/plain": [
              "   Playlist SNo.                                               Link Genre  \\\n",
              "0              1  https://open.spotify.com/playlist/37i9dQZF1DX2...  Rock   \n",
              "1              2  https://open.spotify.com/playlist/0kn7JeehPfQx...  Rock   \n",
              "2              3  https://open.spotify.com/playlist/0V8rICPS7HsI...  Rock   \n",
              "3              4  https://open.spotify.com/playlist/37i9dQZF1DX2...  Rock   \n",
              "4              5  https://open.spotify.com/playlist/1WLxavbTX7zs...  Rock   \n",
              "\n",
              "  Language  \n",
              "0    Hindi  \n",
              "1    Hindi  \n",
              "2    Hindi  \n",
              "3    Hindi  \n",
              "4    Hindi  "
            ],
            "text/html": [
              "\n",
              "  <div id=\"df-d23de129-3f6c-4f58-89e6-bfced6912b4a\">\n",
              "    <div class=\"colab-df-container\">\n",
              "      <div>\n",
              "<style scoped>\n",
              "    .dataframe tbody tr th:only-of-type {\n",
              "        vertical-align: middle;\n",
              "    }\n",
              "\n",
              "    .dataframe tbody tr th {\n",
              "        vertical-align: top;\n",
              "    }\n",
              "\n",
              "    .dataframe thead th {\n",
              "        text-align: right;\n",
              "    }\n",
              "</style>\n",
              "<table border=\"1\" class=\"dataframe\">\n",
              "  <thead>\n",
              "    <tr style=\"text-align: right;\">\n",
              "      <th></th>\n",
              "      <th>Playlist SNo.</th>\n",
              "      <th>Link</th>\n",
              "      <th>Genre</th>\n",
              "      <th>Language</th>\n",
              "    </tr>\n",
              "  </thead>\n",
              "  <tbody>\n",
              "    <tr>\n",
              "      <th>0</th>\n",
              "      <td>1</td>\n",
              "      <td>https://open.spotify.com/playlist/37i9dQZF1DX2...</td>\n",
              "      <td>Rock</td>\n",
              "      <td>Hindi</td>\n",
              "    </tr>\n",
              "    <tr>\n",
              "      <th>1</th>\n",
              "      <td>2</td>\n",
              "      <td>https://open.spotify.com/playlist/0kn7JeehPfQx...</td>\n",
              "      <td>Rock</td>\n",
              "      <td>Hindi</td>\n",
              "    </tr>\n",
              "    <tr>\n",
              "      <th>2</th>\n",
              "      <td>3</td>\n",
              "      <td>https://open.spotify.com/playlist/0V8rICPS7HsI...</td>\n",
              "      <td>Rock</td>\n",
              "      <td>Hindi</td>\n",
              "    </tr>\n",
              "    <tr>\n",
              "      <th>3</th>\n",
              "      <td>4</td>\n",
              "      <td>https://open.spotify.com/playlist/37i9dQZF1DX2...</td>\n",
              "      <td>Rock</td>\n",
              "      <td>Hindi</td>\n",
              "    </tr>\n",
              "    <tr>\n",
              "      <th>4</th>\n",
              "      <td>5</td>\n",
              "      <td>https://open.spotify.com/playlist/1WLxavbTX7zs...</td>\n",
              "      <td>Rock</td>\n",
              "      <td>Hindi</td>\n",
              "    </tr>\n",
              "  </tbody>\n",
              "</table>\n",
              "</div>\n",
              "      <button class=\"colab-df-convert\" onclick=\"convertToInteractive('df-d23de129-3f6c-4f58-89e6-bfced6912b4a')\"\n",
              "              title=\"Convert this dataframe to an interactive table.\"\n",
              "              style=\"display:none;\">\n",
              "        \n",
              "  <svg xmlns=\"http://www.w3.org/2000/svg\" height=\"24px\"viewBox=\"0 0 24 24\"\n",
              "       width=\"24px\">\n",
              "    <path d=\"M0 0h24v24H0V0z\" fill=\"none\"/>\n",
              "    <path d=\"M18.56 5.44l.94 2.06.94-2.06 2.06-.94-2.06-.94-.94-2.06-.94 2.06-2.06.94zm-11 1L8.5 8.5l.94-2.06 2.06-.94-2.06-.94L8.5 2.5l-.94 2.06-2.06.94zm10 10l.94 2.06.94-2.06 2.06-.94-2.06-.94-.94-2.06-.94 2.06-2.06.94z\"/><path d=\"M17.41 7.96l-1.37-1.37c-.4-.4-.92-.59-1.43-.59-.52 0-1.04.2-1.43.59L10.3 9.45l-7.72 7.72c-.78.78-.78 2.05 0 2.83L4 21.41c.39.39.9.59 1.41.59.51 0 1.02-.2 1.41-.59l7.78-7.78 2.81-2.81c.8-.78.8-2.07 0-2.86zM5.41 20L4 18.59l7.72-7.72 1.47 1.35L5.41 20z\"/>\n",
              "  </svg>\n",
              "      </button>\n",
              "      \n",
              "  <style>\n",
              "    .colab-df-container {\n",
              "      display:flex;\n",
              "      flex-wrap:wrap;\n",
              "      gap: 12px;\n",
              "    }\n",
              "\n",
              "    .colab-df-convert {\n",
              "      background-color: #E8F0FE;\n",
              "      border: none;\n",
              "      border-radius: 50%;\n",
              "      cursor: pointer;\n",
              "      display: none;\n",
              "      fill: #1967D2;\n",
              "      height: 32px;\n",
              "      padding: 0 0 0 0;\n",
              "      width: 32px;\n",
              "    }\n",
              "\n",
              "    .colab-df-convert:hover {\n",
              "      background-color: #E2EBFA;\n",
              "      box-shadow: 0px 1px 2px rgba(60, 64, 67, 0.3), 0px 1px 3px 1px rgba(60, 64, 67, 0.15);\n",
              "      fill: #174EA6;\n",
              "    }\n",
              "\n",
              "    [theme=dark] .colab-df-convert {\n",
              "      background-color: #3B4455;\n",
              "      fill: #D2E3FC;\n",
              "    }\n",
              "\n",
              "    [theme=dark] .colab-df-convert:hover {\n",
              "      background-color: #434B5C;\n",
              "      box-shadow: 0px 1px 3px 1px rgba(0, 0, 0, 0.15);\n",
              "      filter: drop-shadow(0px 1px 2px rgba(0, 0, 0, 0.3));\n",
              "      fill: #FFFFFF;\n",
              "    }\n",
              "  </style>\n",
              "\n",
              "      <script>\n",
              "        const buttonEl =\n",
              "          document.querySelector('#df-d23de129-3f6c-4f58-89e6-bfced6912b4a button.colab-df-convert');\n",
              "        buttonEl.style.display =\n",
              "          google.colab.kernel.accessAllowed ? 'block' : 'none';\n",
              "\n",
              "        async function convertToInteractive(key) {\n",
              "          const element = document.querySelector('#df-d23de129-3f6c-4f58-89e6-bfced6912b4a');\n",
              "          const dataTable =\n",
              "            await google.colab.kernel.invokeFunction('convertToInteractive',\n",
              "                                                     [key], {});\n",
              "          if (!dataTable) return;\n",
              "\n",
              "          const docLinkHtml = 'Like what you see? Visit the ' +\n",
              "            '<a target=\"_blank\" href=https://colab.research.google.com/notebooks/data_table.ipynb>data table notebook</a>'\n",
              "            + ' to learn more about interactive tables.';\n",
              "          element.innerHTML = '';\n",
              "          dataTable['output_type'] = 'display_data';\n",
              "          await google.colab.output.renderOutput(dataTable, element);\n",
              "          const docLink = document.createElement('div');\n",
              "          docLink.innerHTML = docLinkHtml;\n",
              "          element.appendChild(docLink);\n",
              "        }\n",
              "      </script>\n",
              "    </div>\n",
              "  </div>\n",
              "  "
            ]
          },
          "metadata": {},
          "execution_count": 7
        }
      ],
      "source": [
        "data.head()"
      ]
    },
    {
      "cell_type": "code",
      "execution_count": null,
      "metadata": {
        "id": "7Ijb_sEo9gBk"
      },
      "outputs": [],
      "source": [
        "music_playlist = data.iloc[:, :].values"
      ]
    },
    {
      "cell_type": "code",
      "execution_count": null,
      "metadata": {
        "id": "tfbVQX7k9rwC"
      },
      "outputs": [],
      "source": [
        "dic_map = {\n",
        "    0: ['Instrumental', 'Classical', 'Ballad'],\n",
        "    1: ['Ballad', 'Instrumental', 'Rock'],\n",
        "    2: ['EDM', 'Jazz', 'Rock', 'Pop'],\n",
        "    3: ['Pop', 'Rock', 'EDM', 'Blues', 'Hip Hop'],\n",
        "    4: ['Classical', 'Instrumental', 'Ballad'],\n",
        "    5: ['Folk', 'Rock', 'Pop'],\n",
        "    6: ['EDM', 'Rock', 'Jazz']\n",
        "}"
      ]
    },
    {
      "cell_type": "code",
      "execution_count": null,
      "metadata": {
        "id": "A30qaD08_7XM"
      },
      "outputs": [],
      "source": [
        "def emotion_prediction(model, image):\n",
        "  # 0=Angry, 1=Disgust, 2=Fear, 3=Happy, 4=Sad, 5=Surprise, 6=Neutral\n",
        "  dic_emotion = {0:'angry', 1:'disgust', 2:'fear', 3:'happy', 4:'sad', 5:'surprise', 6:'neutral'}\n",
        "  # IMAGE =image.reshape((1, 48, 48, 1))\n",
        "  model_pred = model.predict(image.reshape((-1, 48, 48, 1)))\n",
        "  print(\"INSIDEEE\",model_pred.shape)\n",
        "  print(\"Image_szie\",image.shape)\n",
        "\n",
        "  y_predicted = np.argmax(model_pred)\n",
        "  # plt.imshow(image)\n",
        "\n",
        "  print(\"PREDICTION\",y_predicted)\n",
        "  predicted_emotion = dic_emotion[y_predicted]\n",
        "  image_intensity = np.max(model_pred)\n",
        "  final_intensity = image_intensity*100\n",
        "  # predicted_emotion=\"happy\"\n",
        "  # image_intensity=0.9\n",
        "  return predicted_emotion, image_intensity"
      ]
    },
    {
      "cell_type": "code",
      "execution_count": null,
      "metadata": {
        "id": "kIaJU0Zk9uHq"
      },
      "outputs": [],
      "source": [
        "def suggest_music(emotion, image_intensity):\n",
        "  dic_emotion = {'angry':0, 'disgust':1, 'fear':2, 'happy':3, 'sad':4, 'surprise':5, 'neutral':6}\n",
        "  emotion_val = dic_emotion[emotion]\n",
        "  data_list = []\n",
        "  list_genres = music_playlist[:, 2]\n",
        "  i = 0\n",
        "  if image_intensity > 0.32 and image_intensity < 0.63:\n",
        "    i=0\n",
        "  elif image_intensity >= 0.63 and image_intensity < 0.83:\n",
        "    i=1\n",
        "  else:\n",
        "    i=2\n",
        "  i = dic_map[emotion_val][i]\n",
        "  for j in range(len(list_genres)):\n",
        "    if list_genres[j] == i:\n",
        "      data_list.append(music_playlist[j])\n",
        "  random.shuffle(data_list)\n",
        "\n",
        "  return data_list[0][1], data_list[0][3], data_list[0][2]"
      ]
    },
    {
      "cell_type": "markdown",
      "metadata": {
        "id": "NylNUhcyiOCu"
      },
      "source": [
        "# **Movie Recommendation**"
      ]
    },
    {
      "cell_type": "code",
      "execution_count": null,
      "metadata": {
        "id": "RtZ4i3G-12Us"
      },
      "outputs": [],
      "source": [
        "data_movie = pd.read_csv('/content/drive/MyDrive/IR Project CODEBASE/Deployment/playlists/Movies_PlayList.csv')"
      ]
    },
    {
      "cell_type": "code",
      "execution_count": null,
      "metadata": {
        "colab": {
          "base_uri": "https://localhost:8080/"
        },
        "id": "3aPgw5Kv1-vM",
        "outputId": "2f1ccfe6-ca5d-48dd-adc6-797c0361ae7a"
      },
      "outputs": [
        {
          "output_type": "execute_result",
          "data": {
            "text/plain": [
              "array(['Animation', 'Drama', 'Epic', 'Fantasy', 'Gangster', 'Mystery',\n",
              "       'Romantic Comedy', 'Science Fiction', 'Horror', 'Action'],\n",
              "      dtype=object)"
            ]
          },
          "metadata": {},
          "execution_count": 13
        }
      ],
      "source": [
        "data_movie['Category'].unique()"
      ]
    },
    {
      "cell_type": "code",
      "execution_count": null,
      "metadata": {
        "id": "TGrfF9WR5ZCl"
      },
      "outputs": [],
      "source": [
        "dic_map_movie = {\n",
        "    0: ['Drama', 'Romantic Comedy'],\n",
        "    1: ['Mystery'],\n",
        "    2: ['Epic'],\n",
        "    3: ['Drama', 'Romantic Comedy', 'Mystery', 'Epic', 'Animation', 'Action', 'Fantasy', 'Horror', 'Science Fiction', 'Gangster'],\n",
        "    4: ['Animation', 'Action'],\n",
        "    5: ['Fantasy', 'Horror'],\n",
        "    6: ['Science Fiction', 'Gangster']\n",
        "}"
      ]
    },
    {
      "cell_type": "code",
      "source": [
        "haar_cascade_face = cv2.CascadeClassifier('/content/drive/MyDrive/IR Project CODEBASE/haarcascade_frontalface_alt2.xml')\n"
      ],
      "metadata": {
        "id": "Kyy4ADFmaNZi"
      },
      "execution_count": null,
      "outputs": []
    },
    {
      "cell_type": "code",
      "source": [
        "def detect_faces(cascade, test_image, scaleFactor = 1.1, width=5):\n",
        "    # create a copy of the image to prevent any changes to the original one.\n",
        "    image_copy = test_image.copy()\n",
        "    \n",
        "    #convert the test image to gray scale as opencv face detector expects gray images\n",
        "    # gray_image = cv2.cvtColor(image_copy, cv2.COLOR_BGR2GRAY)\n",
        "    \n",
        "    # Applying the haar classifier to detect faces\n",
        "    faces_rect = cascade.detectMultiScale(image_copy, scaleFactor=scaleFactor, minNeighbors=5)\n",
        "    h1 = 0\n",
        "    w1 = 0\n",
        "    for (x, y, w, h) in faces_rect:\n",
        "        cv2.rectangle(image_copy, (x, y), (x+w, y+h), (255, 255, 0), width)\n",
        "        h1 = h\n",
        "        w1 = w\n",
        "        break\n",
        "    crop_img = image_copy[y+width:y+h1-width, x+width:x+w1-width]\n",
        "    \n",
        "    return crop_img, image_copy"
      ],
      "metadata": {
        "id": "L0wpyg8baV3M"
      },
      "execution_count": null,
      "outputs": []
    },
    {
      "cell_type": "code",
      "execution_count": null,
      "metadata": {
        "id": "8CqLHlEd7BgN"
      },
      "outputs": [],
      "source": [
        "def suggest_movie(emotion):\n",
        "    from random import shuffle\n",
        "    emotions = {'angry':0, 'disgust':1, 'fear':2, 'happy':3, 'sad':4, 'surprise':5, 'neutral':6}\n",
        "    emotion_label = emotions[emotion]\n",
        "    list_data = []\n",
        "    list_cat = []\n",
        "    list_movie_name = []\n",
        "    category = []\n",
        "    category = dic_map_movie[emotion_label]\n",
        "    for index,row in data_movie.iterrows():\n",
        "      for i in category:\n",
        "        if row['Category'] == i:\n",
        "          list_data.append(row['Link'])\n",
        "          list_cat.append(row['Category'])\n",
        "          list_movie_name.append(row['Movie Name'])\n",
        "\n",
        "    list_data_shuf = []\n",
        "    list_cat_shuf = []\n",
        "    list_movie_name_shuf = []\n",
        "    index_shuf = list(range(len(list_data)))\n",
        "    shuffle(index_shuf)\n",
        "    for i in index_shuf:\n",
        "     list_data_shuf.append(list_data[i])\n",
        "     list_cat_shuf.append(list_cat[i])\n",
        "     list_movie_name_shuf.append(list_movie_name[i])\n",
        "    # random.shuffle(list_data)\n",
        "    print('We suggest you this movie:', list_data)\n",
        "    print('Categories recommended: ',category)\n",
        "    print('For emotion type: ', emotion)\n",
        "\n",
        "    return list_data_shuf, list_cat_shuf, list_movie_name_shuf"
      ]
    },
    {
      "cell_type": "markdown",
      "metadata": {
        "id": "6-z9WyrZiSk3"
      },
      "source": [
        "# **Deployment Using Flask**"
      ]
    },
    {
      "cell_type": "code",
      "execution_count": null,
      "metadata": {
        "colab": {
          "base_uri": "https://localhost:8080/"
        },
        "id": "UdC9Tt5jleWu",
        "outputId": "67c76ecc-bfc1-4e55-8fd2-a8575f7aeaf2"
      },
      "outputs": [
        {
          "output_type": "stream",
          "name": "stdout",
          "text": [
            " * Serving Flask app \"__main__\" (lazy loading)\n",
            " * Environment: production\n",
            "\u001b[31m   WARNING: This is a development server. Do not use it in a production deployment.\u001b[0m\n",
            "\u001b[2m   Use a production WSGI server instead.\u001b[0m\n",
            " * Debug mode: off\n"
          ]
        },
        {
          "output_type": "stream",
          "name": "stderr",
          "text": [
            " * Running on http://127.0.0.1:5000/ (Press CTRL+C to quit)\n"
          ]
        },
        {
          "output_type": "stream",
          "name": "stdout",
          "text": [
            " * Running on http://fb9d-34-147-105-206.ngrok.io\n",
            " * Traffic stats available on http://127.0.0.1:4040\n"
          ]
        },
        {
          "output_type": "stream",
          "name": "stderr",
          "text": [
            "127.0.0.1 - - [27/Apr/2022 16:44:23] \"\u001b[37mGET / HTTP/1.1\u001b[0m\" 200 -\n",
            "127.0.0.1 - - [27/Apr/2022 16:44:24] \"\u001b[37mGET /static/123.jpg HTTP/1.1\u001b[0m\" 200 -\n",
            "127.0.0.1 - - [27/Apr/2022 16:44:24] \"\u001b[37mGET /static/logo.png HTTP/1.1\u001b[0m\" 200 -\n",
            "127.0.0.1 - - [27/Apr/2022 16:44:26] \"\u001b[33mGET /favicon.ico HTTP/1.1\u001b[0m\" 404 -\n"
          ]
        },
        {
          "output_type": "stream",
          "name": "stdout",
          "text": [
            "INSIDEEE (1, 7)\n",
            "Image_szie (1, 48, 48, 1)\n",
            "PREDICTION 3\n",
            "We suggest you this movie: ['https://www.imdb.com/title/tt0245429/?ref_=adv_li_tt', 'https://www.imdb.com/title/tt0110357/?ref_=adv_li_tt', 'https://www.imdb.com/title/tt0095327/?ref_=adv_li_tt', 'https://www.imdb.com/title/tt5311514/?ref_=adv_li_tt', 'https://www.imdb.com/title/tt4633694/?ref_=adv_li_tt', 'https://www.imdb.com/title/tt2380307/?ref_=adv_li_tt', 'https://www.imdb.com/title/tt0910970/?ref_=adv_li_tt', 'https://www.imdb.com/title/tt0119698/?ref_=adv_li_tt', 'https://www.imdb.com/title/tt1049413/?ref_=adv_li_tt', 'https://www.imdb.com/title/tt0435761/?ref_=adv_li_tt', 'https://www.imdb.com/title/tt0056592/?ref_=ttls_li_tt', 'https://www.imdb.com/title/tt0117381/?ref_=ttls_li_tt', 'https://www.imdb.com/title/tt0117293/?ref_=ttls_li_tt', 'https://www.imdb.com/title/tt0050083/?ref_=ttls_li_tt', 'https://www.imdb.com/title/tt0195685/?ref_=ttls_li_tt', 'https://www.imdb.com/title/tt0404032/?ref_=ttls_li_tt', 'https://www.imdb.com/title/tt0094608/?ref_=ttls_li_tt', 'https://www.imdb.com/title/tt0465538/?ref_=ttls_li_tt', 'https://www.imdb.com/title/tt0104257/?ref_=ttls_li_tt', 'https://www.imdb.com/title/tt0088146/?ref_=ttls_li_tt', 'https://www.imdb.com/title/tt0068646/?ref_=nv_sr_srsg_6', 'https://www.imdb.com/title/tt0468569/?ref_=nv_sr_srsg_0', 'https://www.imdb.com/title/tt0108052/?ref_=nv_sr_srsg_0', 'https://www.imdb.com/title/tt0120737/?ref_=nv_sr_srsg_0', 'https://www.imdb.com/title/tt0109830/?ref_=nv_sr_srsg_0', 'https://www.imdb.com/title/tt0060196/?ref_=nv_sr_srsg_0', 'https://www.imdb.com/title/tt0120815/?ref_=nv_sr_srsg_0', 'https://www.imdb.com/title/tt0120915/?ref_=nv_sr_srsg_10', 'https://www.imdb.com/title/tt0047478/', 'https://www.imdb.com/title/tt0078788/?ref_=ttls_li_tt', 'https://www.imdb.com/title/tt0167260/?ref_=adv_li_tt', 'https://www.imdb.com/title/tt0167261/?ref_=adv_li_tt', 'https://www.imdb.com/title/tt0080684/?ref_=adv_li_tt', 'https://www.imdb.com/title/tt0245429/?ref_=adv_li_tt', 'https://www.imdb.com/title/tt0245429/?ref_=adv_li_tt', 'https://www.imdb.com/title/tt0076759/?ref_=adv_li_tt', 'https://www.imdb.com/title/tt0038650/?ref_=adv_li_tt', 'https://www.imdb.com/title/tt4633694/?ref_=adv_li_tt', 'https://www.imdb.com/title/tt2380307/?ref_=adv_li_tt', 'https://www.imdb.com/title/tt10872600/?ref_=adv_li_tt', 'https://www.imdb.com/title/tt0068646/?ref_=ttls_li_tt', 'https://www.imdb.com/title/tt0071562/?ref_=ttls_li_tt', 'https://www.imdb.com/title/tt0110912/?ref_=ttls_li_tt', 'https://www.imdb.com/title/tt0110912/?ref_=ttls_li_tt', 'https://www.imdb.com/title/tt0317248/?ref_=ttls_li_tt', 'https://www.imdb.com/title/tt0110413/?ref_=ttls_li_tt', 'https://www.imdb.com/title/tt0407887/?ref_=ttls_li_tt', 'https://www.imdb.com/title/tt0114814/?ref_=ttls_li_tt', 'https://www.imdb.com/title/tt0114814/?ref_=ttls_li_tt', 'https://www.imdb.com/title/tt0086250/?ref_=ttls_li_tt', 'https://www.imdb.com/title/tt1877830/?ref_=adv_li_tt', 'https://www.imdb.com/title/tt1392214/?ref_=adv_li_tt', 'https://www.imdb.com/title/tt0078788/?ref_=adv_li_tt', 'https://www.imdb.com/title/tt0078788/?ref_=adv_li_tt', 'https://www.imdb.com/title/tt0114369/?ref_=adv_li_tt', 'https://www.imdb.com/title/tt0120689/?ref_=adv_li_tt', 'https://www.imdb.com/title/tt2267998/?ref_=adv_li_tt', 'https://www.imdb.com/title/tt1130884/?ref_=adv_li_tt', 'https://www.imdb.com/title/tt0482571/?ref_=adv_li_tt', 'https://www.imdb.com/title/tt0245429/?ref_=adv_li_tt', 'https://www.imdb.com/title/tt0211915/?ref_=adv_li_tt', 'https://www.imdb.com/title/tt8110330/?ref_=adv_li_tt', 'https://www.imdb.com/title/tt3783958/?ref_=adv_li_tt', 'https://www.imdb.com/title/tt0103639/?ref_=adv_li_tt', 'https://www.imdb.com/title/tt1655442/?ref_=adv_li_tt', 'https://www.imdb.com/title/tt0298148/?ref_=adv_li_tt', 'https://www.imdb.com/title/tt5462602/?ref_=adv_li_tt', 'https://www.imdb.com/title/tt5164432/?ref_=adv_li_tt', 'https://www.imdb.com/title/tt9484998/?ref_=adv_li_tt', 'https://www.imdb.com/title/tt1980929/?ref_=adv_li_tt', 'https://www.imdb.com/title/tt6710474/?ref_=adv_li_tt', 'https://www.imdb.com/title/tt2463208/?ref_=adv_li_tt', 'https://www.imdb.com/title/tt4154796/?ref_=adv_li_tt', 'https://www.imdb.com/title/tt5834426/?ref_=adv_li_tt', 'https://www.imdb.com/title/tt10838180/?ref_=adv_li_tt', 'https://www.imdb.com/title/tt18689424/?ref_=adv_li_tt', 'https://www.imdb.com/title/tt6334354/?ref_=adv_li_tt', 'https://www.imdb.com/title/tt1856101/?ref_=adv_li_tt', 'https://www.imdb.com/title/tt0816692/?ref_=adv_li_tt', 'https://www.imdb.com/title/tt5246700/?ref_=adv_li_tt', 'https://www.imdb.com/title/tt6751668/?ref_=adv_li_tt', 'https://www.imdb.com/title/tt8108202/?ref_=adv_li_tt', 'https://www.imdb.com/title/tt1457767/', 'https://www.imdb.com/title/tt0387564/?ref_=adv_li_tt', 'https://www.imdb.com/title/tt0092991/?ref_=adv_li_tt', 'https://www.imdb.com/title/tt0295700/', 'https://www.imdb.com/title/tt5862312/', 'https://www.imdb.com/title/tt2222550/', 'https://www.imdb.com/title/tt1591095/?ref_=fn_al_tt_1', 'https://www.imdb.com/title/tt0995031/', 'https://www.imdb.com/title/tt1877830/?ref_=adv_li_tt', 'https://www.imdb.com/title/tt10698680/?ref_=adv_li_tt', 'https://www.imdb.com/title/tt8178634/?ref_=adv_li_tt', 'https://www.imdb.com/title/tt13320622/?ref_=adv_li_tt', 'https://www.imdb.com/title/tt4998632/?ref_=adv_li_tt', 'https://www.imdb.com/title/tt14168394/?ref_=adv_li_tt', 'https://www.imdb.com/title/tt1630029/?ref_=adv_li_tt', 'https://www.imdb.com/title/tt7838252/?ref_=adv_li_tt', 'https://www.imdb.com/title/tt1375666/?ref_=adv_li_tt', 'https://www.imdb.com/title/tt0145487/?ref_=adv_li_tt']\n",
            "Categories recommended:  ['Drama', 'Romantic Comedy', 'Mystery', 'Epic', 'Animation', 'Action', 'Fantasy', 'Horror', 'Science Fiction', 'Gangster']\n",
            "For emotion type:  happy\n"
          ]
        },
        {
          "output_type": "stream",
          "name": "stderr",
          "text": [
            "127.0.0.1 - - [27/Apr/2022 16:44:36] \"\u001b[37mPOST /recommendations HTTP/1.1\u001b[0m\" 200 -\n",
            "127.0.0.1 - - [27/Apr/2022 16:45:56] \"\u001b[37mGET / HTTP/1.1\u001b[0m\" 200 -\n"
          ]
        }
      ],
      "source": [
        "from flask_ngrok import run_with_ngrok\n",
        "\n",
        "UPLOAD_FOLDER = '/content'\n",
        "\n",
        "app = Flask(__name__, template_folder='/content/drive/MyDrive/IR Project CODEBASE/Deployment/templates', static_folder='/content/drive/MyDrive/IR Project CODEBASE/Deployment/static')\n",
        "app.config['UPLOAD_FOLDER'] = UPLOAD_FOLDER\n",
        "\n",
        "run_with_ngrok(app)\n",
        "\n",
        "  \n",
        "@app.route(\"/\",methods=['POST','GET'])\n",
        "def home():\n",
        "  return render_template('GettingStarted.html')\n",
        "\n",
        "\n",
        "@app.route('/recommendations',methods=['POST','GET'])\n",
        "def recommendations():\n",
        "\n",
        "  img = request.files['file1']\n",
        "  img.save('capturedImg.jpg')\n",
        "  img = cv2.imread('capturedImg.jpg')\n",
        "  gray = cv2.cvtColor(img, cv2.COLOR_BGR2GRAY)\n",
        "\n",
        "  faces, original = detect_faces(haar_cascade_face, gray, width=1)\n",
        "  # plt.imshow(faces)\n",
        "  res = cv2.resize(faces, dsize=(48,48), interpolation=cv2.INTER_CUBIC)\n",
        "  res1 = res.reshape(-1, 48, 48, 1)\n",
        "  # print(res1.shape)\n",
        "\n",
        "  emotion, image_intensity = emotion_prediction(model, res1)\n",
        "  # plt.imshow(res1.reshape(48, 48))\n",
        "  # emotion=\"happy\"\n",
        "  # image_intensity=0.9\n",
        "\n",
        "  music_playlist, language, genre = suggest_music(emotion, image_intensity)\n",
        "  movie_links, movie_categories, movie_names = suggest_movie(emotion)\n",
        "  return render_template('Recommendations.html', prediction_text = emotion, music_list = music_playlist, music_lang = language, music_genre = genre, moviesLinks = movie_links, moviesCat = movie_categories, moviesNames = movie_names)\n",
        "\n",
        "app.run()"
      ]
    },
    {
      "cell_type": "code",
      "source": [
        ""
      ],
      "metadata": {
        "id": "BdgbXUXiVTDC"
      },
      "execution_count": null,
      "outputs": []
    }
  ],
  "metadata": {
    "colab": {
      "collapsed_sections": [],
      "name": "Web Dep.ipynb",
      "provenance": []
    },
    "kernelspec": {
      "display_name": "Python 3",
      "name": "python3"
    },
    "language_info": {
      "name": "python"
    }
  },
  "nbformat": 4,
  "nbformat_minor": 0
}